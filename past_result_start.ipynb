{
 "cells": [
  {
   "cell_type": "code",
   "execution_count": 3,
   "metadata": {},
   "outputs": [
    {
     "data": {
      "text/html": [
       "<div>\n",
       "<style scoped>\n",
       "    .dataframe tbody tr th:only-of-type {\n",
       "        vertical-align: middle;\n",
       "    }\n",
       "\n",
       "    .dataframe tbody tr th {\n",
       "        vertical-align: top;\n",
       "    }\n",
       "\n",
       "    .dataframe thead th {\n",
       "        text-align: right;\n",
       "    }\n",
       "</style>\n",
       "<table border=\"1\" class=\"dataframe\">\n",
       "  <thead>\n",
       "    <tr style=\"text-align: right;\">\n",
       "      <th></th>\n",
       "      <th>year</th>\n",
       "      <th>(January, mean_dbt)</th>\n",
       "      <th>(January, min_dbt)</th>\n",
       "      <th>(January, max_dbt)</th>\n",
       "      <th>(January, mean_rh)</th>\n",
       "      <th>(January, mean_ghi)</th>\n",
       "      <th>(January, 99th_percentile_ghi)</th>\n",
       "      <th>(January, mean_drsr)</th>\n",
       "      <th>(January, 99th_percentile_drsr)</th>\n",
       "      <th>(January, mean_dfhr)</th>\n",
       "      <th>...</th>\n",
       "      <th>(December, min_dbt)</th>\n",
       "      <th>(December, max_dbt)</th>\n",
       "      <th>(December, mean_rh)</th>\n",
       "      <th>(December, mean_ghi)</th>\n",
       "      <th>(December, 99th_percentile_ghi)</th>\n",
       "      <th>(December, mean_drsr)</th>\n",
       "      <th>(December, 99th_percentile_drsr)</th>\n",
       "      <th>(December, mean_dfhr)</th>\n",
       "      <th>(December, 99th_percentile_dfhr)</th>\n",
       "      <th>(December, mean_ws)</th>\n",
       "    </tr>\n",
       "  </thead>\n",
       "  <tbody>\n",
       "    <tr>\n",
       "      <th>0</th>\n",
       "      <td>Grid1000_pTRY_50th_1981-2010_lat26-39_long78-1...</td>\n",
       "      <td>14.631828</td>\n",
       "      <td>1.9</td>\n",
       "      <td>29.0</td>\n",
       "      <td>66.022849</td>\n",
       "      <td>440.935943</td>\n",
       "      <td>682.00</td>\n",
       "      <td>449.766323</td>\n",
       "      <td>680.85</td>\n",
       "      <td>193.745520</td>\n",
       "      <td>...</td>\n",
       "      <td>3.3</td>\n",
       "      <td>30.8</td>\n",
       "      <td>61.233871</td>\n",
       "      <td>378.027682</td>\n",
       "      <td>624.00</td>\n",
       "      <td>409.078853</td>\n",
       "      <td>636.71</td>\n",
       "      <td>184.028777</td>\n",
       "      <td>270.84</td>\n",
       "      <td>0.627608</td>\n",
       "    </tr>\n",
       "    <tr>\n",
       "      <th>1</th>\n",
       "      <td>Grid1001_pTRY_50th_1981-2010_lat26-39_long78-3...</td>\n",
       "      <td>14.660887</td>\n",
       "      <td>3.6</td>\n",
       "      <td>27.5</td>\n",
       "      <td>75.711022</td>\n",
       "      <td>436.714801</td>\n",
       "      <td>671.00</td>\n",
       "      <td>456.417266</td>\n",
       "      <td>657.99</td>\n",
       "      <td>193.644928</td>\n",
       "      <td>...</td>\n",
       "      <td>1.8</td>\n",
       "      <td>28.9</td>\n",
       "      <td>58.447581</td>\n",
       "      <td>375.061224</td>\n",
       "      <td>619.00</td>\n",
       "      <td>371.569966</td>\n",
       "      <td>626.57</td>\n",
       "      <td>191.982270</td>\n",
       "      <td>295.57</td>\n",
       "      <td>0.626371</td>\n",
       "    </tr>\n",
       "    <tr>\n",
       "      <th>2</th>\n",
       "      <td>Grid1002_pTRY_50th_1981-2010_lat26-39_long78-6...</td>\n",
       "      <td>14.464086</td>\n",
       "      <td>3.3</td>\n",
       "      <td>27.4</td>\n",
       "      <td>77.018817</td>\n",
       "      <td>445.035971</td>\n",
       "      <td>670.57</td>\n",
       "      <td>450.236301</td>\n",
       "      <td>662.56</td>\n",
       "      <td>194.252708</td>\n",
       "      <td>...</td>\n",
       "      <td>1.0</td>\n",
       "      <td>29.9</td>\n",
       "      <td>67.158602</td>\n",
       "      <td>370.767918</td>\n",
       "      <td>618.57</td>\n",
       "      <td>385.066434</td>\n",
       "      <td>641.57</td>\n",
       "      <td>185.427562</td>\n",
       "      <td>285.41</td>\n",
       "      <td>0.579140</td>\n",
       "    </tr>\n",
       "    <tr>\n",
       "      <th>3</th>\n",
       "      <td>Grid1003_pTRY_50th_1981-2010_lat26-4_long78-87...</td>\n",
       "      <td>14.399597</td>\n",
       "      <td>2.9</td>\n",
       "      <td>29.8</td>\n",
       "      <td>77.665323</td>\n",
       "      <td>421.743682</td>\n",
       "      <td>665.00</td>\n",
       "      <td>411.801418</td>\n",
       "      <td>649.14</td>\n",
       "      <td>198.872727</td>\n",
       "      <td>...</td>\n",
       "      <td>4.4</td>\n",
       "      <td>30.8</td>\n",
       "      <td>73.185484</td>\n",
       "      <td>375.175676</td>\n",
       "      <td>627.57</td>\n",
       "      <td>398.769231</td>\n",
       "      <td>627.57</td>\n",
       "      <td>184.704225</td>\n",
       "      <td>279.85</td>\n",
       "      <td>0.600887</td>\n",
       "    </tr>\n",
       "  </tbody>\n",
       "</table>\n",
       "<p>4 rows × 133 columns</p>\n",
       "</div>"
      ],
      "text/plain": [
       "                                                year  (January, mean_dbt)  \\\n",
       "0  Grid1000_pTRY_50th_1981-2010_lat26-39_long78-1...            14.631828   \n",
       "1  Grid1001_pTRY_50th_1981-2010_lat26-39_long78-3...            14.660887   \n",
       "2  Grid1002_pTRY_50th_1981-2010_lat26-39_long78-6...            14.464086   \n",
       "3  Grid1003_pTRY_50th_1981-2010_lat26-4_long78-87...            14.399597   \n",
       "\n",
       "   (January, min_dbt)  (January, max_dbt)  (January, mean_rh)  \\\n",
       "0                 1.9                29.0           66.022849   \n",
       "1                 3.6                27.5           75.711022   \n",
       "2                 3.3                27.4           77.018817   \n",
       "3                 2.9                29.8           77.665323   \n",
       "\n",
       "   (January, mean_ghi)  (January, 99th_percentile_ghi)  (January, mean_drsr)  \\\n",
       "0           440.935943                          682.00            449.766323   \n",
       "1           436.714801                          671.00            456.417266   \n",
       "2           445.035971                          670.57            450.236301   \n",
       "3           421.743682                          665.00            411.801418   \n",
       "\n",
       "   (January, 99th_percentile_drsr)  (January, mean_dfhr)  ...  \\\n",
       "0                           680.85            193.745520  ...   \n",
       "1                           657.99            193.644928  ...   \n",
       "2                           662.56            194.252708  ...   \n",
       "3                           649.14            198.872727  ...   \n",
       "\n",
       "   (December, min_dbt)  (December, max_dbt)  (December, mean_rh)  \\\n",
       "0                  3.3                 30.8            61.233871   \n",
       "1                  1.8                 28.9            58.447581   \n",
       "2                  1.0                 29.9            67.158602   \n",
       "3                  4.4                 30.8            73.185484   \n",
       "\n",
       "   (December, mean_ghi)  (December, 99th_percentile_ghi)  \\\n",
       "0            378.027682                           624.00   \n",
       "1            375.061224                           619.00   \n",
       "2            370.767918                           618.57   \n",
       "3            375.175676                           627.57   \n",
       "\n",
       "   (December, mean_drsr)  (December, 99th_percentile_drsr)  \\\n",
       "0             409.078853                            636.71   \n",
       "1             371.569966                            626.57   \n",
       "2             385.066434                            641.57   \n",
       "3             398.769231                            627.57   \n",
       "\n",
       "   (December, mean_dfhr)  (December, 99th_percentile_dfhr)  \\\n",
       "0             184.028777                            270.84   \n",
       "1             191.982270                            295.57   \n",
       "2             185.427562                            285.41   \n",
       "3             184.704225                            279.85   \n",
       "\n",
       "   (December, mean_ws)  \n",
       "0             0.627608  \n",
       "1             0.626371  \n",
       "2             0.579140  \n",
       "3             0.600887  \n",
       "\n",
       "[4 rows x 133 columns]"
      ]
     },
     "execution_count": 3,
     "metadata": {},
     "output_type": "execute_result"
    }
   ],
   "source": [
    "import pandas as pd\n",
    "df = pd.read_excel(\"C:/Users/Alok Kumar Pandey/OneDrive/Desktop/coding/future climate data/past_result.xlsx\")\n",
    "df.head(4)\n"
   ]
  },
  {
   "cell_type": "code",
   "execution_count": 4,
   "metadata": {},
   "outputs": [],
   "source": [
    "X = df.drop(columns=['year'])"
   ]
  },
  {
   "cell_type": "code",
   "execution_count": 5,
   "metadata": {},
   "outputs": [],
   "source": [
    "from sklearn.preprocessing import StandardScaler\n",
    "# Standardize the data\n",
    "scaler = StandardScaler()\n",
    "data_scaled = scaler.fit_transform(X)"
   ]
  },
  {
   "cell_type": "code",
   "execution_count": 6,
   "metadata": {},
   "outputs": [
    {
     "data": {
      "text/plain": [
       "array([[-1.05464296, -1.04279272, -0.48665175, ...,  0.47053784,\n",
       "        -0.5311616 , -0.87530094],\n",
       "       [-1.04693596, -0.68148931, -0.94260815, ...,  1.17759211,\n",
       "         0.20049134, -0.87841232],\n",
       "       [-1.09913104, -0.74524874, -0.97300524, ...,  0.59488784,\n",
       "        -0.10009879, -0.99725336],\n",
       "       ...,\n",
       "       [-1.06324113, -0.59647674, -1.21618199, ...,  1.03546487,\n",
       "        -0.03648966, -0.83465014],\n",
       "       [-1.97827689, -1.06404586, -2.21928606, ...,  0.28157933,\n",
       "        -0.70453346, -0.75842142],\n",
       "       [-1.62057559, -0.74524874, -2.24968315, ..., -0.9195548 ,\n",
       "        -0.8814556 , -0.92907364]])"
      ]
     },
     "execution_count": 6,
     "metadata": {},
     "output_type": "execute_result"
    }
   ],
   "source": [
    "data_scaled"
   ]
  },
  {
   "cell_type": "code",
   "execution_count": 7,
   "metadata": {},
   "outputs": [
    {
     "data": {
      "text/plain": [
       "array([0.34533946, 0.50596727, 0.6351142 , 0.71131696, 0.76121933,\n",
       "       0.78077942, 0.79833958, 0.81359368, 0.82778231, 0.8371285 ,\n",
       "       0.84508708, 0.85290333, 0.86005439, 0.86669716, 0.87278814,\n",
       "       0.87862764, 0.88423423, 0.88980945, 0.89486931, 0.8998725 ,\n",
       "       0.90476229, 0.90909395, 0.91317603, 0.91695142, 0.92058832,\n",
       "       0.92384886, 0.92689918, 0.92953873, 0.93211888, 0.93461586,\n",
       "       0.93701437, 0.93926367, 0.94139477, 0.94343971, 0.94541879,\n",
       "       0.94736886, 0.94920261, 0.95102107, 0.95271937, 0.95437315,\n",
       "       0.95595301, 0.95751838, 0.95905436, 0.96052609, 0.96193624,\n",
       "       0.96330961, 0.96464845, 0.96596377, 0.96721757, 0.96841953,\n",
       "       0.96958704, 0.97073902, 0.97185608, 0.97293065, 0.97398505,\n",
       "       0.97501248, 0.97602415, 0.9770088 , 0.97795242, 0.97888249,\n",
       "       0.97975469, 0.98058208, 0.98136579, 0.98213364, 0.98289332,\n",
       "       0.98363286, 0.98434792, 0.98504116, 0.9856858 , 0.98631413,\n",
       "       0.98693195, 0.98750131, 0.98806117, 0.98859905, 0.98910563,\n",
       "       0.98960312, 0.99009589, 0.99055732, 0.99099475, 0.99140667,\n",
       "       0.99178986, 0.99217264, 0.99253983, 0.99289979, 0.99325298,\n",
       "       0.99359207, 0.99392022, 0.9942375 , 0.99453534, 0.99483131,\n",
       "       0.99510621, 0.99536956, 0.99561129, 0.99584221, 0.99605542,\n",
       "       0.99625432, 0.99645072, 0.99663764, 0.99681908, 0.99699484,\n",
       "       0.99716493, 0.99733201, 0.99749294, 0.99764931, 0.997803  ,\n",
       "       0.9979494 , 0.9980854 , 0.99821894, 0.99834817, 0.99847266,\n",
       "       0.99859372, 0.99871182, 0.99882581, 0.99893222, 0.99903748,\n",
       "       0.99914038, 0.9992346 , 0.99932395, 0.99940952, 0.99948926,\n",
       "       0.99956595, 0.99963289, 0.99969069, 0.99974491, 0.99979484,\n",
       "       0.99983928, 0.99988104, 0.99991258, 0.99994247, 0.99996706,\n",
       "       0.99998421, 1.        ])"
      ]
     },
     "execution_count": 7,
     "metadata": {},
     "output_type": "execute_result"
    }
   ],
   "source": [
    "import numpy as np\n",
    "from sklearn.decomposition import PCA\n",
    "import matplotlib.pyplot as plt\n",
    "pca = PCA(n_components=None)\n",
    "X_test_graphical = pca.fit_transform(data_scaled)\n",
    "np.cumsum(pca.explained_variance_ratio_)"
   ]
  },
  {
   "cell_type": "code",
   "execution_count": null,
   "metadata": {},
   "outputs": [
    {
     "data": {
      "text/plain": [
       "[<matplotlib.lines.Line2D at 0x17b8dd1f9e0>]"
      ]
     },
     "execution_count": 8,
     "metadata": {},
     "output_type": "execute_result"
    },
    {
     "data": {
      "image/png": "[encoded data removed]",
      "text/plain": [
       "<Figure size 640x480 with 1 Axes>"
      ]
     },
     "metadata": {},
     "output_type": "display_data"
    },
    {
     "ename": "",
     "evalue": "",
     "output_type": "error",
     "traceback": [
      "\u001b[1;31mThe Kernel crashed while executing code in the current cell or a previous cell. \n",
      "\u001b[1;31mPlease review the code in the cell(s) to identify a possible cause of the failure. \n",
      "\u001b[1;31mClick <a href='https://aka.ms/vscodeJupyterKernelCrash'>here</a> for more info. \n",
      "\u001b[1;31mView Jupyter <a href='command:jupyter.viewOutput'>log</a> for further details."
     ]
    }
   ],
   "source": [
    "\n",
    "plt.plot(np.cumsum(pca.explained_variance_ratio_))"
   ]
  },
  {
   "cell_type": "code",
   "execution_count": 25,
   "metadata": {},
   "outputs": [],
   "source": [
    "from sklearn.base import BaseEstimator, ClassifierMixin\n",
    "import numpy as np\n",
    "from fcmeans import FCM\n",
    "\n",
    "class FuzzyCMeansClassifier(BaseEstimator, ClassifierMixin):\n",
    "    def __init__(self, n_clusters=3, max_iter=150, m=2.0, error=1e-5):\n",
    "        self.n_clusters = n_clusters\n",
    "        self.max_iter = max_iter\n",
    "        self.m = m\n",
    "        self.error = error\n",
    "\n",
    "    def fit(self, X, y=None):\n",
    "        # Fit the FCM model\n",
    "        self.fcm = FCM(n_clusters=self.n_clusters, max_iter=self.max_iter, m=self.m)\n",
    "        self.fcm.fit(X)\n",
    "        \n",
    "        # The cluster centers and membership matrix\n",
    "        self.cntr = self.fcm.centers\n",
    "        self.u = self.fcm.u\n",
    "        \n",
    "        # Assign labels based on highest membership\n",
    "        self.labels_ = np.argmax(self.u, axis=0)\n",
    "        return self\n",
    "\n",
    "    def predict(self, X):\n",
    "        # Predict the membership matrix for the new data\n",
    "        u = self.fcm.predict(X)\n",
    "        \n",
    "        # Assign labels based on highest membership\n",
    "        return np.argmax(u, axis=1)\n"
   ]
  },
  {
   "cell_type": "code",
   "execution_count": 26,
   "metadata": {},
   "outputs": [],
   "source": [
    "from sklearn.pipeline import Pipeline\n",
    "from sklearn.decomposition import KernelPCA\n",
    "from sklearn.model_selection import GridSearchCV\n",
    "\n",
    "clf = Pipeline([\n",
    "    (\"kpca\", KernelPCA()),\n",
    "    (\"fcm\", FuzzyCMeansClassifier())\n",
    "])\n"
   ]
  },
  {
   "cell_type": "code",
   "execution_count": 2,
   "metadata": {},
   "outputs": [
    {
     "ename": "NameError",
     "evalue": "name 'np' is not defined",
     "output_type": "error",
     "traceback": [
      "\u001b[1;31m---------------------------------------------------------------------------\u001b[0m",
      "\u001b[1;31mNameError\u001b[0m                                 Traceback (most recent call last)",
      "Cell \u001b[1;32mIn[2], line 2\u001b[0m\n\u001b[0;32m      1\u001b[0m param_grid \u001b[38;5;241m=\u001b[39m [{\n\u001b[1;32m----> 2\u001b[0m     \u001b[38;5;124m\"\u001b[39m\u001b[38;5;124mkpca__n_components\u001b[39m\u001b[38;5;124m\"\u001b[39m: \u001b[43mnp\u001b[49m\u001b[38;5;241m.\u001b[39marange(\u001b[38;5;241m4\u001b[39m, \u001b[38;5;241m26\u001b[39m),  \u001b[38;5;66;03m# More components to account for high feature dimensionality\u001b[39;00m\n\u001b[0;32m      3\u001b[0m     \u001b[38;5;124m\"\u001b[39m\u001b[38;5;124mkpca__gamma\u001b[39m\u001b[38;5;124m\"\u001b[39m: np\u001b[38;5;241m.\u001b[39mlinspace(\u001b[38;5;241m0.001\u001b[39m, \u001b[38;5;241m0.1\u001b[39m, \u001b[38;5;241m10\u001b[39m),  \u001b[38;5;66;03m# Wider range for gamma\u001b[39;00m\n\u001b[0;32m      4\u001b[0m     \u001b[38;5;124m\"\u001b[39m\u001b[38;5;124mkpca__kernel\u001b[39m\u001b[38;5;124m\"\u001b[39m: [\u001b[38;5;124m\"\u001b[39m\u001b[38;5;124mrbf\u001b[39m\u001b[38;5;124m\"\u001b[39m, \u001b[38;5;124m\"\u001b[39m\u001b[38;5;124msigmoid\u001b[39m\u001b[38;5;124m\"\u001b[39m, \u001b[38;5;124m\"\u001b[39m\u001b[38;5;124mpoly\u001b[39m\u001b[38;5;124m\"\u001b[39m],  \u001b[38;5;66;03m# Including more kernel types\u001b[39;00m\n\u001b[0;32m      5\u001b[0m     \u001b[38;5;124m\"\u001b[39m\u001b[38;5;124mfcm__n_clusters\u001b[39m\u001b[38;5;124m\"\u001b[39m: [\u001b[38;5;241m4\u001b[39m, \u001b[38;5;241m5\u001b[39m, \u001b[38;5;241m6\u001b[39m, \u001b[38;5;241m7\u001b[39m],  \u001b[38;5;66;03m# Exploring a larger range of clusters\u001b[39;00m\n\u001b[0;32m      6\u001b[0m     \u001b[38;5;124m\"\u001b[39m\u001b[38;5;124mfcm__m\u001b[39m\u001b[38;5;124m\"\u001b[39m: [\u001b[38;5;241m1.0\u001b[39m, \u001b[38;5;241m1.5\u001b[39m, \u001b[38;5;241m2.0\u001b[39m, \u001b[38;5;241m2.5\u001b[39m, \u001b[38;5;241m3\u001b[39m, \u001b[38;5;241m5\u001b[39m],  \u001b[38;5;66;03m# Testing a wider range for fuzziness\u001b[39;00m\n\u001b[0;32m      7\u001b[0m     \u001b[38;5;124m\"\u001b[39m\u001b[38;5;124mfcm__max_iter\u001b[39m\u001b[38;5;124m\"\u001b[39m: [\u001b[38;5;241m200\u001b[39m, \u001b[38;5;241m300\u001b[39m, \u001b[38;5;241m500\u001b[39m]  \u001b[38;5;66;03m# More iterations for convergence\u001b[39;00m\n\u001b[0;32m      8\u001b[0m }]\n",
      "\u001b[1;31mNameError\u001b[0m: name 'np' is not defined"
     ]
    }
   ],
   "source": [
    "param_grid = [{\n",
    "    \"kpca__n_components\": np.arange(4, 26),  # More components to account for high feature dimensionality\n",
    "    \"kpca__gamma\": np.linspace(0.001, 0.1, 10),  # Wider range for gamma\n",
    "    \"kpca__kernel\": [\"rbf\", \"sigmoid\", \"poly\"],  # Including more kernel types\n",
    "    \"fcm__n_clusters\": [4, 5, 6, 7],  # Exploring a larger range of clusters\n",
    "    \"fcm__m\": [1.0, 1.5, 2.0, 2.5, 3, 5],  # Testing a wider range for fuzziness\n",
    "    \"fcm__max_iter\": [200, 300, 500]  # More iterations for convergence\n",
    "}]\n"
   ]
  },
  {
   "cell_type": "code",
   "execution_count": 1,
   "metadata": {},
   "outputs": [
    {
     "ename": "NameError",
     "evalue": "name 'GridSearchCV' is not defined",
     "output_type": "error",
     "traceback": [
      "\u001b[1;31m---------------------------------------------------------------------------\u001b[0m",
      "\u001b[1;31mNameError\u001b[0m                                 Traceback (most recent call last)",
      "Cell \u001b[1;32mIn[1], line 1\u001b[0m\n\u001b[1;32m----> 1\u001b[0m grid_search \u001b[38;5;241m=\u001b[39m \u001b[43mGridSearchCV\u001b[49m(clf, param_grid, cv\u001b[38;5;241m=\u001b[39m\u001b[38;5;241m5\u001b[39m)\n\u001b[0;32m      2\u001b[0m grid_search\u001b[38;5;241m.\u001b[39mfit(X)\n\u001b[0;32m      4\u001b[0m \u001b[38;5;66;03m# Output the best parameters\u001b[39;00m\n",
      "\u001b[1;31mNameError\u001b[0m: name 'GridSearchCV' is not defined"
     ]
    }
   ],
   "source": [
    "grid_search = GridSearchCV(clf, param_grid, cv=5)\n",
    "grid_search.fit(X)\n",
    "\n",
    "# Output the best parameters\n",
    "print(\"Best parameters:\", grid_search.best_params_)\n"
   ]
  },
  {
   "cell_type": "code",
   "execution_count": null,
   "metadata": {},
   "outputs": [],
   "source": []
  }
 ],
 "metadata": {
  "kernelspec": {
   "display_name": "Python 3",
   "language": "python",
   "name": "python3"
  },
  "language_info": {
   "codemirror_mode": {
    "name": "ipython",
    "version": 3
   },
   "file_extension": ".py",
   "mimetype": "text/x-python",
   "name": "python",
   "nbconvert_exporter": "python",
   "pygments_lexer": "ipython3",
   "version": "3.12.2"
  }
 },
 "nbformat": 4,
 "nbformat_minor": 2
}
